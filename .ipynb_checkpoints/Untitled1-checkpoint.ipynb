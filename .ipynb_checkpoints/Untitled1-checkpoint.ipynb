{
 "cells": [
  {
   "cell_type": "code",
   "execution_count": 134,
   "id": "afcf2ed5-4d76-4a39-b58f-5969b65c7113",
   "metadata": {
    "tags": []
   },
   "outputs": [
    {
     "name": "stdout",
     "output_type": "stream",
     "text": [
      "Data written to CSV at 2024-06-03 02:05:02\n",
      "Data written to CSV at 2024-06-03 02:05:04\n",
      "Data written to CSV at 2024-06-03 02:05:06\n",
      "Data written to CSV at 2024-06-03 02:05:08\n",
      "Data written to CSV at 2024-06-03 02:05:10\n",
      "Data written to CSV at 2024-06-03 02:05:13\n",
      "First non-adjacent white pixel found at: (x=65, y=70)\n",
      "Time: 2024-06-03 02:05:13\n"
     ]
    },
    {
     "data": {
      "image/png": "[encoded data removed]",
      "text/plain": [
       "<Figure size 800x800 with 1 Axes>"
      ]
     },
     "metadata": {},
     "output_type": "display_data"
    }
   ],
   "source": [
    "import csv\n",
    "import sys\n",
    "import os\n",
    "import math\n",
    "import starlink_grpc\n",
    "from datetime import datetime\n",
    "import matplotlib.pyplot as plt\n",
    "import numpy as np\n",
    "import time\n",
    "\n",
    "# Add the path to starlink-grpc-tools-main to the system path\n",
    "sys.path.append(os.path.abspath('E:\\\\SatInView\\\\starlink-grpc-tools-main'))\n",
    "\n",
    "def calculate_azimuth_elevation(image_width, image_height):\n",
    "    # Ensure the image is square\n",
    "    assert image_width == image_height, \"Image must be square\"\n",
    "    \n",
    "    center_x = (image_width // 2) - 2\n",
    "    center_y = (image_height // 2) - 13\n",
    "    \n",
    "    azimuth_elevation_map = []\n",
    "\n",
    "    for y in range(image_height):\n",
    "        row = []\n",
    "        for x in range(image_width):\n",
    "            # Convert pixel (x, y) to Cartesian coordinates with the center as (0, 0)\n",
    "            dx = x - center_x\n",
    "            dy = center_y - y  # Adjust dy to invert y-axis\n",
    "\n",
    "            # Calculate azimuth\n",
    "            azimuth = (math.degrees(math.atan2(dx, -dy)) + 360) % 360\n",
    "            \n",
    "            # Calculate elevation\n",
    "            distance_from_center = math.sqrt(dx**2 + dy**2)\n",
    "            max_distance = center_x  # max distance in pixels\n",
    "            elevation = 90 * (1 - (distance_from_center / max_distance))  # Minimum elevation is 10 degrees\n",
    "\n",
    "            if distance_from_center > max_distance:\n",
    "                # Pixels outside the circle represent \"no data\"\n",
    "                row.append((None, None))\n",
    "            else:\n",
    "                row.append((azimuth, elevation))\n",
    "        \n",
    "        azimuth_elevation_map.append(row)\n",
    "    \n",
    "    return azimuth_elevation_map\n",
    "\n",
    "# Assuming this function gets snr_data from the dish\n",
    "context = starlink_grpc.ChannelContext(target=\"192.168.100.1:9200\")  # Example target\n",
    "\n",
    "# Initialize the previous SNR data\n",
    "previous_snr_data = None\n",
    "\n",
    "# Set up the CSV file in append mode\n",
    "csv_filename = \"snr_data_log.csv\"\n",
    "with open(csv_filename, mode='a', newline='') as file:\n",
    "    writer = csv.writer(file)\n",
    "    # Write the header only if the file is empty\n",
    "    if os.path.getsize(csv_filename) == 0:\n",
    "        writer.writerow([\"Time\"] + [\"X Coordinate\"] + [\"Y Coordinate\"])\n",
    "\n",
    "# Function to check if a pixel is adjacent to any previous pixel including itself\n",
    "def is_adjacent_to_previous(previous_pixels, x, y):\n",
    "    # Check the 9 surrounding pixels (including itself)\n",
    "    for dx in range(-1, 2):\n",
    "        for dy in range(-1, 2):\n",
    "            if (x + dx, y + dy) in previous_pixels:\n",
    "                return True\n",
    "    return False\n",
    "\n",
    "previous_pixels = set()\n",
    "\n",
    "# Enter the while loop\n",
    "starlink_grpc.reset_obstruction_map(context)\n",
    "time.sleep(5)  # Allow some time for the obstruction map to reset\n",
    "\n",
    "while True:\n",
    "    try:\n",
    "        # Get the current SNR data\n",
    "        snr_data1 = starlink_grpc.obstruction_map(context)\n",
    "        time.sleep(2)\n",
    "        snr_data2 = starlink_grpc.obstruction_map(context)\n",
    "        \n",
    "        snr_data1_array = np.array(snr_data1, dtype=int)\n",
    "        snr_data1_array[snr_data1_array == -1] = 0\n",
    "        \n",
    "        snr_data2_array = np.array(snr_data2, dtype=int)\n",
    "        snr_data2_array[snr_data2_array == -1] = 0\n",
    "        \n",
    "        # Perform bitwise XOR operation\n",
    "        current_snr_data = np.bitwise_xor(snr_data1_array, snr_data2_array).tolist()\n",
    "\n",
    "        # If previous_snr_data is None, initialize it\n",
    "        if previous_snr_data is None:\n",
    "            previous_snr_data = current_snr_data\n",
    "            previous_pixels.update([(x, y) for y in range(len(current_snr_data)) for x in range(len(current_snr_data[y])) if current_snr_data[y][x] == 1])\n",
    "            continue\n",
    "\n",
    "        # Compare with the previous SNR data\n",
    "        xor_data = np.bitwise_xor(np.array(previous_snr_data, dtype=int), np.array(current_snr_data, dtype=int)).tolist()\n",
    "\n",
    "        # Find and store the white pixels (coordinates) and time in the CSV file\n",
    "        current_utc_time = datetime.utcnow().strftime(\"%Y-%m-%d %H:%M:%S\")\n",
    "        white_pixel_coords = [(x, y) for y in range(len(xor_data)) for x in range(len(xor_data[y])) if xor_data[y][x] == 1]\n",
    "        \n",
    "        if white_pixel_coords:\n",
    "            with open(csv_filename, mode='a', newline='') as file:\n",
    "                writer = csv.writer(file)\n",
    "                for (x, y) in white_pixel_coords:\n",
    "                    writer.writerow([current_utc_time, x, y])\n",
    "            \n",
    "            print(f\"Data written to CSV at {current_utc_time}\")\n",
    "        \n",
    "            # Check for the first non-adjacent white pixel\n",
    "            new_pixel_found = False\n",
    "            if previous_pixels:  # Ensure previous_pixels is not empty\n",
    "                for (x, y) in white_pixel_coords:\n",
    "                    if not is_adjacent_to_previous(previous_pixels, x, y):\n",
    "                        print(f\"First non-adjacent white pixel found at: (x={x}, y={y})\")\n",
    "                        print(f\"Time: {current_utc_time}\")\n",
    "                        new_pixel_found = True\n",
    "                        break\n",
    "            \n",
    "            if new_pixel_found:\n",
    "                break\n",
    "\n",
    "            # Update previous pixels and SNR data\n",
    "            previous_snr_data = current_snr_data\n",
    "            previous_pixels.update(white_pixel_coords)\n",
    "        else:\n",
    "            print(f\"No changes detected at {current_utc_time}\")\n",
    "\n",
    "    except starlink_grpc.GrpcError as e:\n",
    "        print(\"Failed getting obstruction map data:\", str(e))\n",
    "        break\n",
    "\n",
    "# Plotting the final image\n",
    "plt.figure(figsize=(8, 8))\n",
    "plt.imshow(current_snr_data, cmap='gray', origin='lower')\n",
    "\n",
    "if new_pixel_found:\n",
    "    plt.scatter([x], [y], color='red', marker='o', s=2)\n",
    "    plt.text(x, y, 'New Pixel', color='red', fontsize=12, ha='right', va='bottom')\n",
    "\n",
    "plt.title(f'Starlink Obstruction Map\\n{current_utc_time}')\n",
    "plt.show()\n",
    "\n"
   ]
  },
  {
   "cell_type": "code",
   "execution_count": 110,
   "id": "0f66b580-068e-41c3-90c9-cb68586a4910",
   "metadata": {
    "tags": []
   },
   "outputs": [
    {
     "data": {
      "text/plain": [
       "{(96, 43)}"
      ]
     },
     "execution_count": 110,
     "metadata": {},
     "output_type": "execute_result"
    }
   ],
   "source": [
    "previous_pixels"
   ]
  },
  {
   "cell_type": "code",
   "execution_count": null,
   "id": "42b71482-6bd7-49b7-8d9b-4fbba9842acc",
   "metadata": {},
   "outputs": [],
   "source": []
  }
 ],
 "metadata": {
  "kernelspec": {
   "display_name": "Python 3 (ipykernel)",
   "language": "python",
   "name": "python3"
  },
  "language_info": {
   "codemirror_mode": {
    "name": "ipython",
    "version": 3
   },
   "file_extension": ".py",
   "mimetype": "text/x-python",
   "name": "python",
   "nbconvert_exporter": "python",
   "pygments_lexer": "ipython3",
   "version": "3.9.19"
  }
 },
 "nbformat": 4,
 "nbformat_minor": 5
}
